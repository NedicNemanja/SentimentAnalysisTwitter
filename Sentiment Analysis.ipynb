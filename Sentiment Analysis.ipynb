{
 "cells": [
  {
   "cell_type": "markdown",
   "metadata": {},
   "source": [
    "# Sentiment Analysis\n",
    "\n",
    "## _First step_\n",
    "\n",
    "First we take the data from the lexica folder and the training data from the twitter_data folder,then we hava to clean the data.We romove symbols like (#,@) and links but we keep emoticons and emojis because they convey emotion (valence) "
   ]
  },
  {
   "cell_type": "code",
   "execution_count": null,
   "metadata": {},
   "outputs": [],
   "source": [
    "#Na doume ta stop words mallon prpei na knoume lista \n",
    "#h kai na mhn ta aferesoume katholou \n",
    "#afou logika den tha uparxoun sta set me \n",
    "#tis lekseis pou mas dinoun\n",
    "import read_files\n",
    "\n",
    "lex = read_files.read_lexica(\"../lexica/affin/affin.txt\")\n",
    "#for word_value in lex:\n",
    "   # print(word_value[0] +\" \"+repr(word_value[1]))\n",
    "train =read_files.read_tsv(\"../twitter_data/train2017.tsv\")\n",
    "\n",
    "#for word_value in train:\n",
    "   # print(word_value[0] +\"____\"+repr(word_value[1]))"
   ]
  }
 ],
 "metadata": {
  "kernelspec": {
   "display_name": "Python 3",
   "language": "python",
   "name": "python3"
  },
  "language_info": {
   "codemirror_mode": {
    "name": "ipython",
    "version": 3
   },
   "file_extension": ".py",
   "mimetype": "text/x-python",
   "name": "python",
   "nbconvert_exporter": "python",
   "pygments_lexer": "ipython3",
   "version": "3.6.7"
  }
 },
 "nbformat": 4,
 "nbformat_minor": 2
}
