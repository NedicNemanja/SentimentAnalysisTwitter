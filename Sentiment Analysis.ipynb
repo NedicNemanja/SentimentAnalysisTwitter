{
 "cells": [
  {
   "cell_type": "markdown",
   "metadata": {},
   "source": [
    "# Sentiment Analysis\n",
    "\n",
    "## _First step_\n",
    "\n",
    "First we take the data from the lexica folder and the training data from the twitter_data folder,then we hava to clean the data.We romove symbols like (#,@) and links but we keep emoticons and emojis because they convey emotion (valence) "
   ]
  },
  {
   "cell_type": "code",
   "execution_count": 1,
   "metadata": {},
   "outputs": [
    {
     "ename": "NameError",
     "evalue": "name 'train' is not defined",
     "output_type": "error",
     "traceback": [
      "\u001b[0;31m---------------------------------------------------------------------------\u001b[0m",
      "\u001b[0;31mNameError\u001b[0m                                 Traceback (most recent call last)",
      "\u001b[0;32m<ipython-input-1-81b01402e1fe>\u001b[0m in \u001b[0;36m<module>\u001b[0;34m\u001b[0m\n\u001b[1;32m     11\u001b[0m \u001b[0msymbols\u001b[0m\u001b[0;34m=\u001b[0m\u001b[0;34m\"#@\"\u001b[0m\u001b[0;34m\u001b[0m\u001b[0;34m\u001b[0m\u001b[0m\n\u001b[1;32m     12\u001b[0m \u001b[0;34m\u001b[0m\u001b[0m\n\u001b[0;32m---> 13\u001b[0;31m \u001b[0mfix_tweets\u001b[0m\u001b[0;34m.\u001b[0m\u001b[0mremove_chars\u001b[0m\u001b[0;34m(\u001b[0m\u001b[0mtrain\u001b[0m\u001b[0;34m,\u001b[0m\u001b[0msymbols\u001b[0m\u001b[0;34m)\u001b[0m\u001b[0;34m\u001b[0m\u001b[0;34m\u001b[0m\u001b[0m\n\u001b[0m\u001b[1;32m     14\u001b[0m \u001b[0mfix_tweets\u001b[0m\u001b[0;34m.\u001b[0m\u001b[0mremove_links\u001b[0m\u001b[0;34m(\u001b[0m\u001b[0mtrain\u001b[0m\u001b[0;34m)\u001b[0m\u001b[0;34m\u001b[0m\u001b[0;34m\u001b[0m\u001b[0m\n\u001b[1;32m     15\u001b[0m \u001b[0;34m\u001b[0m\u001b[0m\n",
      "\u001b[0;31mNameError\u001b[0m: name 'train' is not defined"
     ]
    }
   ],
   "source": [
    "#Na doume ta stop words mallon prpei na knoume lista \n",
    "#h kai na mhn ta aferesoume katholou \n",
    "#afou logika den tha uparxoun sta set me \n",
    "#tis lekseis pou mas dinoun\n",
    "import read_files\n",
    "lex = read_files.read_lexica(\"../lexica/affin/affin.txt\")\n",
    "train =read_files.read_tsv(\"../twitter_data/train2017.tsv\")\n",
    "\n",
    "\n",
    "import fix_tweets\n",
    "\n",
    "symbols=\"#@\"\n",
    "\n",
    "fix_tweets.remove_chars(train,symbols)\n",
    "fix_tweets.remove_links(train)\n",
    "\n",
    "for word_value in train:\n",
    "    print(word_value[0] +\"____\"+repr(word_value[1]))"
   ]
  }
 ],
 "metadata": {
  "kernelspec": {
   "display_name": "Python 3",
   "language": "python",
   "name": "python3"
  },
  "language_info": {
   "codemirror_mode": {
    "name": "ipython",
    "version": 3
   },
   "file_extension": ".py",
   "mimetype": "text/x-python",
   "name": "python",
   "nbconvert_exporter": "python",
   "pygments_lexer": "ipython3",
   "version": "3.6.7"
  }
 },
 "nbformat": 4,
 "nbformat_minor": 2
}
